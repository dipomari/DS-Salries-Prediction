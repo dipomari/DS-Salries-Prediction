{
 "cells": [
  {
   "cell_type": "code",
   "execution_count": 1,
   "id": "0d18f38e",
   "metadata": {},
   "outputs": [],
   "source": [
    "import pandas as pd\n",
    "import numpy as np\n",
    "import plotly.express as px\n",
    "from sklearn.model_selection import train_test_split"
   ]
  },
  {
   "cell_type": "code",
   "execution_count": 2,
   "id": "2dc5341c",
   "metadata": {},
   "outputs": [
    {
     "data": {
      "text/html": [
       "<div>\n",
       "<style scoped>\n",
       "    .dataframe tbody tr th:only-of-type {\n",
       "        vertical-align: middle;\n",
       "    }\n",
       "\n",
       "    .dataframe tbody tr th {\n",
       "        vertical-align: top;\n",
       "    }\n",
       "\n",
       "    .dataframe thead th {\n",
       "        text-align: right;\n",
       "    }\n",
       "</style>\n",
       "<table border=\"1\" class=\"dataframe\">\n",
       "  <thead>\n",
       "    <tr style=\"text-align: right;\">\n",
       "      <th></th>\n",
       "      <th>work_year</th>\n",
       "      <th>experience_level</th>\n",
       "      <th>employment_type</th>\n",
       "      <th>job_title</th>\n",
       "      <th>salary</th>\n",
       "      <th>salary_currency</th>\n",
       "      <th>salary_in_usd</th>\n",
       "      <th>employee_residence</th>\n",
       "      <th>remote_ratio</th>\n",
       "      <th>company_location</th>\n",
       "      <th>company_size</th>\n",
       "    </tr>\n",
       "  </thead>\n",
       "  <tbody>\n",
       "    <tr>\n",
       "      <th>0</th>\n",
       "      <td>2023</td>\n",
       "      <td>SE</td>\n",
       "      <td>FT</td>\n",
       "      <td>Principal Data Scientist</td>\n",
       "      <td>80000</td>\n",
       "      <td>EUR</td>\n",
       "      <td>85847</td>\n",
       "      <td>ES</td>\n",
       "      <td>100</td>\n",
       "      <td>ES</td>\n",
       "      <td>L</td>\n",
       "    </tr>\n",
       "    <tr>\n",
       "      <th>1</th>\n",
       "      <td>2023</td>\n",
       "      <td>MI</td>\n",
       "      <td>CT</td>\n",
       "      <td>ML Engineer</td>\n",
       "      <td>30000</td>\n",
       "      <td>USD</td>\n",
       "      <td>30000</td>\n",
       "      <td>US</td>\n",
       "      <td>100</td>\n",
       "      <td>US</td>\n",
       "      <td>S</td>\n",
       "    </tr>\n",
       "    <tr>\n",
       "      <th>2</th>\n",
       "      <td>2023</td>\n",
       "      <td>MI</td>\n",
       "      <td>CT</td>\n",
       "      <td>ML Engineer</td>\n",
       "      <td>25500</td>\n",
       "      <td>USD</td>\n",
       "      <td>25500</td>\n",
       "      <td>US</td>\n",
       "      <td>100</td>\n",
       "      <td>US</td>\n",
       "      <td>S</td>\n",
       "    </tr>\n",
       "    <tr>\n",
       "      <th>3</th>\n",
       "      <td>2023</td>\n",
       "      <td>SE</td>\n",
       "      <td>FT</td>\n",
       "      <td>Data Scientist</td>\n",
       "      <td>175000</td>\n",
       "      <td>USD</td>\n",
       "      <td>175000</td>\n",
       "      <td>CA</td>\n",
       "      <td>100</td>\n",
       "      <td>CA</td>\n",
       "      <td>M</td>\n",
       "    </tr>\n",
       "    <tr>\n",
       "      <th>4</th>\n",
       "      <td>2023</td>\n",
       "      <td>SE</td>\n",
       "      <td>FT</td>\n",
       "      <td>Data Scientist</td>\n",
       "      <td>120000</td>\n",
       "      <td>USD</td>\n",
       "      <td>120000</td>\n",
       "      <td>CA</td>\n",
       "      <td>100</td>\n",
       "      <td>CA</td>\n",
       "      <td>M</td>\n",
       "    </tr>\n",
       "  </tbody>\n",
       "</table>\n",
       "</div>"
      ],
      "text/plain": [
       "   work_year experience_level employment_type                 job_title  \\\n",
       "0       2023               SE              FT  Principal Data Scientist   \n",
       "1       2023               MI              CT               ML Engineer   \n",
       "2       2023               MI              CT               ML Engineer   \n",
       "3       2023               SE              FT            Data Scientist   \n",
       "4       2023               SE              FT            Data Scientist   \n",
       "\n",
       "   salary salary_currency  salary_in_usd employee_residence  remote_ratio  \\\n",
       "0   80000             EUR          85847                 ES           100   \n",
       "1   30000             USD          30000                 US           100   \n",
       "2   25500             USD          25500                 US           100   \n",
       "3  175000             USD         175000                 CA           100   \n",
       "4  120000             USD         120000                 CA           100   \n",
       "\n",
       "  company_location company_size  \n",
       "0               ES            L  \n",
       "1               US            S  \n",
       "2               US            S  \n",
       "3               CA            M  \n",
       "4               CA            M  "
      ]
     },
     "execution_count": 2,
     "metadata": {},
     "output_type": "execute_result"
    }
   ],
   "source": [
    "df = pd.read_csv('ds_salaries.csv')\n",
    "df.head()"
   ]
  },
  {
   "cell_type": "code",
   "execution_count": 3,
   "id": "da9087b5",
   "metadata": {},
   "outputs": [
    {
     "data": {
      "text/html": [
       "<div>\n",
       "<style scoped>\n",
       "    .dataframe tbody tr th:only-of-type {\n",
       "        vertical-align: middle;\n",
       "    }\n",
       "\n",
       "    .dataframe tbody tr th {\n",
       "        vertical-align: top;\n",
       "    }\n",
       "\n",
       "    .dataframe thead th {\n",
       "        text-align: right;\n",
       "    }\n",
       "</style>\n",
       "<table border=\"1\" class=\"dataframe\">\n",
       "  <thead>\n",
       "    <tr style=\"text-align: right;\">\n",
       "      <th></th>\n",
       "      <th>Country</th>\n",
       "      <th>Alpha-2 code</th>\n",
       "      <th>Alpha-3 code</th>\n",
       "    </tr>\n",
       "  </thead>\n",
       "  <tbody>\n",
       "    <tr>\n",
       "      <th>0</th>\n",
       "      <td>Afghanistan</td>\n",
       "      <td>\"AF\"</td>\n",
       "      <td>\"AFG\"</td>\n",
       "    </tr>\n",
       "    <tr>\n",
       "      <th>1</th>\n",
       "      <td>Albania</td>\n",
       "      <td>\"AL\"</td>\n",
       "      <td>\"ALB\"</td>\n",
       "    </tr>\n",
       "    <tr>\n",
       "      <th>2</th>\n",
       "      <td>Algeria</td>\n",
       "      <td>\"DZ\"</td>\n",
       "      <td>\"DZA\"</td>\n",
       "    </tr>\n",
       "    <tr>\n",
       "      <th>3</th>\n",
       "      <td>American Samoa</td>\n",
       "      <td>\"AS\"</td>\n",
       "      <td>\"ASM\"</td>\n",
       "    </tr>\n",
       "    <tr>\n",
       "      <th>4</th>\n",
       "      <td>Andorra</td>\n",
       "      <td>\"AD\"</td>\n",
       "      <td>\"AND\"</td>\n",
       "    </tr>\n",
       "  </tbody>\n",
       "</table>\n",
       "</div>"
      ],
      "text/plain": [
       "          Country Alpha-2 code Alpha-3 code\n",
       "0     Afghanistan         \"AF\"        \"AFG\"\n",
       "1         Albania         \"AL\"        \"ALB\"\n",
       "2         Algeria         \"DZ\"        \"DZA\"\n",
       "3  American Samoa         \"AS\"        \"ASM\"\n",
       "4         Andorra         \"AD\"        \"AND\""
      ]
     },
     "execution_count": 3,
     "metadata": {},
     "output_type": "execute_result"
    }
   ],
   "source": [
    "country_codes = pd.read_csv('countries_codes_and_coordinates.csv')\n",
    "country_codes.head(5)\n",
    "country_codes.drop(columns=['Numeric code', 'Latitude (average)', 'Longitude (average)'], inplace=True)\n",
    "country_codes.head(5)"
   ]
  },
  {
   "cell_type": "markdown",
   "id": "dca8164a",
   "metadata": {},
   "source": [
    "## Splitting the Data"
   ]
  },
  {
   "cell_type": "code",
   "execution_count": 4,
   "id": "1b8a0003",
   "metadata": {},
   "outputs": [],
   "source": [
    "df_train, df_test = train_test_split(df)"
   ]
  },
  {
   "cell_type": "code",
   "execution_count": 5,
   "id": "9000f29c",
   "metadata": {},
   "outputs": [
    {
     "name": "stdout",
     "output_type": "stream",
     "text": [
      "Training set: \n",
      " Rows:  2816 \tColumns:  11\n",
      "Test set: \n",
      " Rows:  939 \tColumns:  11\n"
     ]
    }
   ],
   "source": [
    "print('Training set: \\n', \"Rows: \", df_train.shape[0], \"\\tColumns: \", df_train.shape[1])\n",
    "print('Test set: \\n', \"Rows: \", df_test.shape[0], \"\\tColumns: \", df_test.shape[1])"
   ]
  },
  {
   "cell_type": "markdown",
   "id": "e4eb9381",
   "metadata": {},
   "source": [
    "## Data Exploration"
   ]
  },
  {
   "cell_type": "markdown",
   "id": "2b93381d",
   "metadata": {},
   "source": [
    "### General Data "
   ]
  },
  {
   "cell_type": "code",
   "execution_count": 6,
   "id": "d0572ce0",
   "metadata": {},
   "outputs": [
    {
     "name": "stdout",
     "output_type": "stream",
     "text": [
      "<class 'pandas.core.frame.DataFrame'>\n",
      "Int64Index: 2816 entries, 294 to 745\n",
      "Data columns (total 11 columns):\n",
      " #   Column              Non-Null Count  Dtype \n",
      "---  ------              --------------  ----- \n",
      " 0   work_year           2816 non-null   int64 \n",
      " 1   experience_level    2816 non-null   object\n",
      " 2   employment_type     2816 non-null   object\n",
      " 3   job_title           2816 non-null   object\n",
      " 4   salary              2816 non-null   int64 \n",
      " 5   salary_currency     2816 non-null   object\n",
      " 6   salary_in_usd       2816 non-null   int64 \n",
      " 7   employee_residence  2816 non-null   object\n",
      " 8   remote_ratio        2816 non-null   int64 \n",
      " 9   company_location    2816 non-null   object\n",
      " 10  company_size        2816 non-null   object\n",
      "dtypes: int64(4), object(7)\n",
      "memory usage: 264.0+ KB\n"
     ]
    }
   ],
   "source": [
    "df_train.info()"
   ]
  },
  {
   "cell_type": "markdown",
   "id": "a56fd5e7",
   "metadata": {},
   "source": [
    "### Making minor adjustments to the columns"
   ]
  },
  {
   "cell_type": "code",
   "execution_count": 7,
   "id": "369d6ab7",
   "metadata": {},
   "outputs": [
    {
     "data": {
      "text/plain": [
       "Index(['work year', 'experience level', 'employment type', 'job title',\n",
       "       'salary', 'salary currency', 'salary in usd', 'employee residence',\n",
       "       'remote ratio', 'company location', 'company size'],\n",
       "      dtype='object')"
      ]
     },
     "execution_count": 7,
     "metadata": {},
     "output_type": "execute_result"
    }
   ],
   "source": [
    "df_train.columns = df_train.columns.str.replace('_', ' ')\n",
    "df_test.columns = df_test.columns.str.replace('_', ' ')\n",
    "df_train.columns"
   ]
  },
  {
   "cell_type": "markdown",
   "id": "65a0cdee",
   "metadata": {},
   "source": [
    "### Checking for null values"
   ]
  },
  {
   "cell_type": "code",
   "execution_count": 8,
   "id": "a7caf199",
   "metadata": {},
   "outputs": [
    {
     "data": {
      "text/plain": [
       "work year             0\n",
       "experience level      0\n",
       "employment type       0\n",
       "job title             0\n",
       "salary                0\n",
       "salary currency       0\n",
       "salary in usd         0\n",
       "employee residence    0\n",
       "remote ratio          0\n",
       "company location      0\n",
       "company size          0\n",
       "dtype: int64"
      ]
     },
     "execution_count": 8,
     "metadata": {},
     "output_type": "execute_result"
    }
   ],
   "source": [
    "df_train.isnull().sum()"
   ]
  },
  {
   "cell_type": "markdown",
   "id": "dd5c6636",
   "metadata": {},
   "source": [
    "### Getting Cat and Num columns"
   ]
  },
  {
   "cell_type": "code",
   "execution_count": 9,
   "id": "2e771138",
   "metadata": {},
   "outputs": [
    {
     "name": "stdout",
     "output_type": "stream",
     "text": [
      "Cat: ['experience level', 'employment type', 'job title', 'salary currency', 'employee residence', 'company location', 'company size'] \n",
      " Num: ['work year', 'salary', 'salary in usd', 'remote ratio']\n"
     ]
    }
   ],
   "source": [
    "def get_catcolumns(dataframe):\n",
    "    categorical_columns = []\n",
    "    \n",
    "    for i in dataframe.columns:\n",
    "        if(dataframe[i].dtype != np.float64 and dataframe[i].dtype != np.int64):\n",
    "            categorical_columns.append(i)\n",
    "\n",
    "    return categorical_columns\n",
    "\n",
    "def get_numcolumns(dataframe):\n",
    "    numerical_columns = []\n",
    "    \n",
    "    for i in dataframe.columns:\n",
    "        if(dataframe[i].dtype == np.float64 or dataframe[i].dtype == np.int64):\n",
    "            numerical_columns.append(i)\n",
    "    \n",
    "    return numerical_columns\n",
    "cat_columns = get_catcolumns(df_train)\n",
    "num_columns = get_numcolumns(df_train)\n",
    "print('Cat:',cat_columns, '\\n Num:', num_columns)"
   ]
  },
  {
   "cell_type": "code",
   "execution_count": 10,
   "id": "1e86a355",
   "metadata": {},
   "outputs": [
    {
     "data": {
      "text/plain": [
       "US    2297\n",
       "GB     128\n",
       "CA      67\n",
       "ES      53\n",
       "IN      39\n",
       "DE      38\n",
       "FR      25\n",
       "PT      13\n",
       "BR      11\n",
       "AU      10\n",
       "NL      10\n",
       "GR       9\n",
       "MX       7\n",
       "IE       5\n",
       "NG       5\n",
       "AT       5\n",
       "SG       5\n",
       "PK       4\n",
       "TR       4\n",
       "PR       4\n",
       "PL       4\n",
       "AS       3\n",
       "DK       3\n",
       "LV       3\n",
       "UA       3\n",
       "LU       3\n",
       "CO       3\n",
       "FI       3\n",
       "JP       3\n",
       "AE       3\n",
       "IT       3\n",
       "ID       2\n",
       "EE       2\n",
       "CZ       2\n",
       "SE       2\n",
       "CF       2\n",
       "BE       2\n",
       "IL       2\n",
       "KE       2\n",
       "GH       2\n",
       "CH       2\n",
       "MA       1\n",
       "TH       1\n",
       "NZ       1\n",
       "HU       1\n",
       "CN       1\n",
       "SI       1\n",
       "BS       1\n",
       "BA       1\n",
       "AL       1\n",
       "PH       1\n",
       "CL       1\n",
       "AR       1\n",
       "EG       1\n",
       "LT       1\n",
       "VN       1\n",
       "MT       1\n",
       "RO       1\n",
       "DZ       1\n",
       "RU       1\n",
       "AM       1\n",
       "IR       1\n",
       "MY       1\n",
       "SK       1\n",
       "Name: company location, dtype: int64"
      ]
     },
     "execution_count": 10,
     "metadata": {},
     "output_type": "execute_result"
    }
   ],
   "source": [
    "pd.set_option(\"display.max_rows\", None)\n",
    "df_train['company location'].value_counts()"
   ]
  },
  {
   "cell_type": "markdown",
   "id": "7d94683d",
   "metadata": {},
   "source": [
    "## EDA"
   ]
  },
  {
   "cell_type": "code",
   "execution_count": 11,
   "id": "325109f6",
   "metadata": {},
   "outputs": [
    {
     "ename": "ValueError",
     "evalue": "Value of 'hover_name' is not the name of a column in 'data_frame'. Expected one of ['work_year', 'experience_level', 'employment_type', 'job_title', 'salary', 'salary_currency', 'salary_in_usd', 'employee_residence', 'remote_ratio', 'company_location', 'company_size'] but received: country",
     "output_type": "error",
     "traceback": [
      "\u001b[0;31m---------------------------------------------------------------------------\u001b[0m",
      "\u001b[0;31mValueError\u001b[0m                                Traceback (most recent call last)",
      "\u001b[0;32m/var/folders/cg/k76n2vc543bg73x1_j26mktm0000gn/T/ipykernel_2129/2412906094.py\u001b[0m in \u001b[0;36m<module>\u001b[0;34m\u001b[0m\n\u001b[0;32m----> 1\u001b[0;31m fig = px.choropleth(df, locations=\"iso_alpha\",\n\u001b[0m\u001b[1;32m      2\u001b[0m                     \u001b[0mcolor\u001b[0m\u001b[0;34m=\u001b[0m\u001b[0;34m\"lifeExp\"\u001b[0m\u001b[0;34m,\u001b[0m \u001b[0;31m# lifeExp is a column of gapminder\u001b[0m\u001b[0;34m\u001b[0m\u001b[0;34m\u001b[0m\u001b[0m\n\u001b[1;32m      3\u001b[0m                     \u001b[0mhover_name\u001b[0m\u001b[0;34m=\u001b[0m\u001b[0;34m\"country\"\u001b[0m\u001b[0;34m,\u001b[0m \u001b[0;31m# column to add to hover information\u001b[0m\u001b[0;34m\u001b[0m\u001b[0;34m\u001b[0m\u001b[0m\n\u001b[1;32m      4\u001b[0m                     color_continuous_scale=px.colors.sequential.Plasma)\n\u001b[1;32m      5\u001b[0m \u001b[0mfig\u001b[0m\u001b[0;34m.\u001b[0m\u001b[0mshow\u001b[0m\u001b[0;34m(\u001b[0m\u001b[0;34m)\u001b[0m\u001b[0;34m\u001b[0m\u001b[0;34m\u001b[0m\u001b[0m\n",
      "\u001b[0;32m~/opt/anaconda3/lib/python3.9/site-packages/plotly/express/_chart_types.py\u001b[0m in \u001b[0;36mchoropleth\u001b[0;34m(data_frame, lat, lon, locations, locationmode, geojson, featureidkey, color, facet_row, facet_col, facet_col_wrap, facet_row_spacing, facet_col_spacing, hover_name, hover_data, custom_data, animation_frame, animation_group, category_orders, labels, color_discrete_sequence, color_discrete_map, color_continuous_scale, range_color, color_continuous_midpoint, projection, scope, center, fitbounds, basemap_visible, title, template, width, height)\u001b[0m\n\u001b[1;32m   1089\u001b[0m     \u001b[0mcolored\u001b[0m \u001b[0mregion\u001b[0m \u001b[0mmark\u001b[0m \u001b[0mon\u001b[0m \u001b[0ma\u001b[0m \u001b[0mmap\u001b[0m\u001b[0;34m.\u001b[0m\u001b[0;34m\u001b[0m\u001b[0;34m\u001b[0m\u001b[0m\n\u001b[1;32m   1090\u001b[0m     \"\"\"\n\u001b[0;32m-> 1091\u001b[0;31m     return make_figure(\n\u001b[0m\u001b[1;32m   1092\u001b[0m         \u001b[0margs\u001b[0m\u001b[0;34m=\u001b[0m\u001b[0mlocals\u001b[0m\u001b[0;34m(\u001b[0m\u001b[0;34m)\u001b[0m\u001b[0;34m,\u001b[0m\u001b[0;34m\u001b[0m\u001b[0;34m\u001b[0m\u001b[0m\n\u001b[1;32m   1093\u001b[0m         \u001b[0mconstructor\u001b[0m\u001b[0;34m=\u001b[0m\u001b[0mgo\u001b[0m\u001b[0;34m.\u001b[0m\u001b[0mChoropleth\u001b[0m\u001b[0;34m,\u001b[0m\u001b[0;34m\u001b[0m\u001b[0;34m\u001b[0m\u001b[0m\n",
      "\u001b[0;32m~/opt/anaconda3/lib/python3.9/site-packages/plotly/express/_core.py\u001b[0m in \u001b[0;36mmake_figure\u001b[0;34m(args, constructor, trace_patch, layout_patch)\u001b[0m\n\u001b[1;32m   1988\u001b[0m     \u001b[0mapply_default_cascade\u001b[0m\u001b[0;34m(\u001b[0m\u001b[0margs\u001b[0m\u001b[0;34m)\u001b[0m\u001b[0;34m\u001b[0m\u001b[0;34m\u001b[0m\u001b[0m\n\u001b[1;32m   1989\u001b[0m \u001b[0;34m\u001b[0m\u001b[0m\n\u001b[0;32m-> 1990\u001b[0;31m     \u001b[0margs\u001b[0m \u001b[0;34m=\u001b[0m \u001b[0mbuild_dataframe\u001b[0m\u001b[0;34m(\u001b[0m\u001b[0margs\u001b[0m\u001b[0;34m,\u001b[0m \u001b[0mconstructor\u001b[0m\u001b[0;34m)\u001b[0m\u001b[0;34m\u001b[0m\u001b[0;34m\u001b[0m\u001b[0m\n\u001b[0m\u001b[1;32m   1991\u001b[0m     \u001b[0;32mif\u001b[0m \u001b[0mconstructor\u001b[0m \u001b[0;32min\u001b[0m \u001b[0;34m[\u001b[0m\u001b[0mgo\u001b[0m\u001b[0;34m.\u001b[0m\u001b[0mTreemap\u001b[0m\u001b[0;34m,\u001b[0m \u001b[0mgo\u001b[0m\u001b[0;34m.\u001b[0m\u001b[0mSunburst\u001b[0m\u001b[0;34m,\u001b[0m \u001b[0mgo\u001b[0m\u001b[0;34m.\u001b[0m\u001b[0mIcicle\u001b[0m\u001b[0;34m]\u001b[0m \u001b[0;32mand\u001b[0m \u001b[0margs\u001b[0m\u001b[0;34m[\u001b[0m\u001b[0;34m\"path\"\u001b[0m\u001b[0;34m]\u001b[0m \u001b[0;32mis\u001b[0m \u001b[0;32mnot\u001b[0m \u001b[0;32mNone\u001b[0m\u001b[0;34m:\u001b[0m\u001b[0;34m\u001b[0m\u001b[0;34m\u001b[0m\u001b[0m\n\u001b[1;32m   1992\u001b[0m         \u001b[0margs\u001b[0m \u001b[0;34m=\u001b[0m \u001b[0mprocess_dataframe_hierarchy\u001b[0m\u001b[0;34m(\u001b[0m\u001b[0margs\u001b[0m\u001b[0;34m)\u001b[0m\u001b[0;34m\u001b[0m\u001b[0;34m\u001b[0m\u001b[0m\n",
      "\u001b[0;32m~/opt/anaconda3/lib/python3.9/site-packages/plotly/express/_core.py\u001b[0m in \u001b[0;36mbuild_dataframe\u001b[0;34m(args, constructor)\u001b[0m\n\u001b[1;32m   1403\u001b[0m     \u001b[0;31m# now that things have been prepped, we do the systematic rewriting of `args`\u001b[0m\u001b[0;34m\u001b[0m\u001b[0;34m\u001b[0m\u001b[0m\n\u001b[1;32m   1404\u001b[0m \u001b[0;34m\u001b[0m\u001b[0m\n\u001b[0;32m-> 1405\u001b[0;31m     df_output, wide_id_vars = process_args_into_dataframe(\n\u001b[0m\u001b[1;32m   1406\u001b[0m         \u001b[0margs\u001b[0m\u001b[0;34m,\u001b[0m \u001b[0mwide_mode\u001b[0m\u001b[0;34m,\u001b[0m \u001b[0mvar_name\u001b[0m\u001b[0;34m,\u001b[0m \u001b[0mvalue_name\u001b[0m\u001b[0;34m\u001b[0m\u001b[0;34m\u001b[0m\u001b[0m\n\u001b[1;32m   1407\u001b[0m     )\n",
      "\u001b[0;32m~/opt/anaconda3/lib/python3.9/site-packages/plotly/express/_core.py\u001b[0m in \u001b[0;36mprocess_args_into_dataframe\u001b[0;34m(args, wide_mode, var_name, value_name)\u001b[0m\n\u001b[1;32m   1205\u001b[0m                         \u001b[0;32mif\u001b[0m \u001b[0margument\u001b[0m \u001b[0;34m==\u001b[0m \u001b[0;34m\"index\"\u001b[0m\u001b[0;34m:\u001b[0m\u001b[0;34m\u001b[0m\u001b[0;34m\u001b[0m\u001b[0m\n\u001b[1;32m   1206\u001b[0m                             \u001b[0merr_msg\u001b[0m \u001b[0;34m+=\u001b[0m \u001b[0;34m\"\\n To use the index, pass it in directly as `df.index`.\"\u001b[0m\u001b[0;34m\u001b[0m\u001b[0;34m\u001b[0m\u001b[0m\n\u001b[0;32m-> 1207\u001b[0;31m                         \u001b[0;32mraise\u001b[0m \u001b[0mValueError\u001b[0m\u001b[0;34m(\u001b[0m\u001b[0merr_msg\u001b[0m\u001b[0;34m)\u001b[0m\u001b[0;34m\u001b[0m\u001b[0;34m\u001b[0m\u001b[0m\n\u001b[0m\u001b[1;32m   1208\u001b[0m                 \u001b[0;32melif\u001b[0m \u001b[0mlength\u001b[0m \u001b[0;32mand\u001b[0m \u001b[0mlen\u001b[0m\u001b[0;34m(\u001b[0m\u001b[0mdf_input\u001b[0m\u001b[0;34m[\u001b[0m\u001b[0margument\u001b[0m\u001b[0;34m]\u001b[0m\u001b[0;34m)\u001b[0m \u001b[0;34m!=\u001b[0m \u001b[0mlength\u001b[0m\u001b[0;34m:\u001b[0m\u001b[0;34m\u001b[0m\u001b[0;34m\u001b[0m\u001b[0m\n\u001b[1;32m   1209\u001b[0m                     raise ValueError(\n",
      "\u001b[0;31mValueError\u001b[0m: Value of 'hover_name' is not the name of a column in 'data_frame'. Expected one of ['work_year', 'experience_level', 'employment_type', 'job_title', 'salary', 'salary_currency', 'salary_in_usd', 'employee_residence', 'remote_ratio', 'company_location', 'company_size'] but received: country"
     ]
    }
   ],
   "source": [
    "fig = px.choropleth(df, locations=\"iso_alpha\",\n",
    "                    color=\"lifeExp\", # lifeExp is a column of gapminder\n",
    "                    hover_name=\"country\", # column to add to hover information\n",
    "                    color_continuous_scale=px.colors.sequential.Plasma)\n",
    "fig.show()"
   ]
  },
  {
   "cell_type": "code",
   "execution_count": null,
   "id": "d80bc718",
   "metadata": {},
   "outputs": [],
   "source": [
    "mean_salaries_exp = df_train.groupby('experience level')['salary in usd'].mean()\n",
    "mean_salaries_exp_graph = px.bar(mean_salaries_exp,\n",
    "       labels={\n",
    "           'value':'USD',\n",
    "           'experience level':'Experience Level'\n",
    "       },\n",
    "      title='Salaries per Experience')\n",
    "\n",
    "mean_salaries_exp_graph.show()"
   ]
  },
  {
   "cell_type": "markdown",
   "id": "424dc950",
   "metadata": {},
   "source": [
    "Graph to show the change of salaries over time for each job title"
   ]
  },
  {
   "cell_type": "code",
   "execution_count": null,
   "id": "d4f9b33e",
   "metadata": {},
   "outputs": [],
   "source": [
    "df_train['work_year'] = df_train['work_year'].apply(str)\n",
    "df_test['work_year'] = df_test['work_year'].apply(str)\n",
    "\n",
    "grouped = df_train.groupby(['job_title', 'work_year'])['salary_in_usd'].mean()\n",
    "highest_paying_jobs = grouped.groupby('job_title').max().sort_values(ascending=False)[:5].index\n",
    "filtered = grouped.loc[highest_paying_jobs]\n",
    "unstacked = filtered.unstack(level=0)\n",
    "unstacked\n",
    "\n",
    "px.line(unstacked,labels={\n",
    "                     \"job_title\": \"Job Title\",\n",
    "                     \"work_year\": \"Years\",\n",
    "                     \"value\": \"Salary in USD\"},\n",
    "       title=\"Salaries Over the Years\")"
   ]
  },
  {
   "cell_type": "code",
   "execution_count": null,
   "id": "9f50a932",
   "metadata": {},
   "outputs": [],
   "source": [
    "y_train = df_train['salary_in_usd']\n",
    "x_train = df_train.drop(columns=['salary_in_usd'])\n",
    "\n",
    "y_test = df_test['salary_in_usd']\n",
    "x_test = df_test.drop(columns=['salary_in_usd'])"
   ]
  },
  {
   "cell_type": "code",
   "execution_count": null,
   "id": "9bceec39",
   "metadata": {},
   "outputs": [],
   "source": [
    "px.box(y_train)\n"
   ]
  },
  {
   "cell_type": "markdown",
   "id": "cb315f70",
   "metadata": {},
   "source": [
    "## Data Preparation and Feature Engineering for the models"
   ]
  },
  {
   "cell_type": "markdown",
   "id": "be51668f",
   "metadata": {},
   "source": [
    "### Libraries\n",
    "Since we have\n",
    "\n",
    "This is a change"
   ]
  },
  {
   "cell_type": "code",
   "execution_count": null,
   "id": "1506ae62",
   "metadata": {},
   "outputs": [],
   "source": []
  }
 ],
 "metadata": {
  "kernelspec": {
   "display_name": "Python 3 (ipykernel)",
   "language": "python",
   "name": "python3"
  },
  "language_info": {
   "codemirror_mode": {
    "name": "ipython",
    "version": 3
   },
   "file_extension": ".py",
   "mimetype": "text/x-python",
   "name": "python",
   "nbconvert_exporter": "python",
   "pygments_lexer": "ipython3",
   "version": "3.9.13"
  }
 },
 "nbformat": 4,
 "nbformat_minor": 5
}
